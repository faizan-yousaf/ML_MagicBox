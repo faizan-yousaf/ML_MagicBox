{
 "cells": [
  {
   "cell_type": "markdown",
   "metadata": {},
   "source": [
    "# **K-Means Clustering**\n",
    "\n",
    "* K-Means Clustering is an unsupervised learning algorithm that is used to solve the clustering problems in machine learning or data science.\n",
    "* In this kernel, I will use K-Means Clustering to cluster the data points in the `make_blobs dataset`.\n",
    "* It works on unlabeled data.\n",
    "* It makes the groups based on the similarity of data points.\n",
    "* K-Means algorithm identifies `k number of centroids`, and then allocates every data point to the `nearest cluster`, while keeping the centroids as small as possible.\n",
    "* The `means` in the K-Means refers to averaging of the data; that is, finding the centroid.\n",
    "\n",
    "\n",
    "### Working of K-Means Algorithm:\n",
    "\n",
    "* The algorithm works as follows:\n",
    "    1. Specify the `number of clusters K`.\n",
    "    2. Initialize centroids by first shuffling the dataset and then randomly selecting K data points for the centroids without replacement.\n",
    "    3. Keep iterating until there is no change to the centroids. i.e assignment of data points to clusters isn’t changing.\n",
    "    4. Compute the `sum of the squared distance between data points` and `all centroids` **WCSS**.\n",
    "    5. Assign each data point to the closest cluster `(centroid)`.\n",
    "    6. Compute the centroids for the clusters by taking the average of the all data points that belong to each cluster."
   ]
  },
  {
   "cell_type": "markdown",
   "metadata": {},
   "source": [
    "> In the Unsupervised learning algorithms, we only fit the model on the `X datset` as `we don't have the labels`."
   ]
  },
  {
   "cell_type": "markdown",
   "metadata": {
    "vscode": {
     "languageId": "plaintext"
    }
   },
   "source": [
    "#### Q: Which type of variables we can take input in k-means clustering?"
   ]
  },
  {
   "cell_type": "markdown",
   "metadata": {
    "vscode": {
     "languageId": "plaintext"
    }
   },
   "source": [
    "1. `Directly Suitable`: Numerical (continuous) variables.\n",
    "2. `Indirectly Suitable`: Categorical variables (using encoding), ordinal variables (with careful encoding), and binary variables (with caution).\n",
    "3. `Not Suitable`: Categorical variables without proper encoding.\n",
    "For best results with K-means clustering, the data should primarily consist of numerical variables. If your dataset includes categorical or binary variables, consider either transforming them appropriately or using a different clustering algorithm that better handles mixed data types.\n",
    "\n",
    "##### `Handling Mixed Data Types`\n",
    "If you have a dataset with a mix of numerical and categorical variables, you can consider alternative clustering techniques or preprocessing steps:\n",
    "\n",
    "`Alternative Algorithms`: Algorithms like K-prototypes or Gower distance-based clustering can handle mixed data types.\n",
    "`Preprocessing`: You can also preprocess your data to convert categorical variables into numerical ones, as mentioned above, but this can affect the quality of the clustering."
   ]
  },
  {
   "cell_type": "markdown",
   "metadata": {
    "vscode": {
     "languageId": "plaintext"
    }
   },
   "source": [
    "### **Parallel plot in plotly:**\n",
    "\n",
    "#### `Q: What is a Parallel Coordinates Plot?`\n",
    "\n",
    "A Parallel Coordinates Plot is a type of data visualization used to represent high-dimensional data. In this plot, each variable (dimension) in the dataset is represented by a vertical axis, and each data point is represented as a line that spans across all the axes. The position of the line along each axis corresponds to the value of the variable for that data point.\n",
    "\n",
    "#### `Structure of a Parallel Coordinates Plot`:\n",
    "Axes: Each vertical line in the plot represents one variable (feature) in the dataset.\n",
    "Lines: Each line connecting the axes represents a single data point or observation. The position of the line on each axis reflects the value of the corresponding variable.\n",
    "\n",
    "\n",
    "#### `How to Use`:\n",
    "Identify Variables: Select the variables, each with its own vertical axis.\n",
    "Scale Data: Normalize or standardize variables for consistency.\n",
    "Plot Data Points: Draw lines connecting axes based on variable values.\n",
    "Color Coding: Use color to differentiate classes or groups.\n",
    "#### `Interpretation`:\n",
    "Patterns: Similar lines across axes suggest correlated variables.\n",
    "Clusters: Groups of parallel lines indicate clusters.\n",
    "Outliers: Lines that deviate from the norm indicate anomalies.\n",
    "Correlations: Crossing lines may suggest negative correlation, while parallel lines suggest positive correlation.\n",
    "\n"
   ]
  },
  {
   "cell_type": "markdown",
   "metadata": {},
   "source": [
    "### `Q: Why do we choose the first edge in the elbow method?`\n",
    "\n",
    "The first edge point or elbow point is chosen in the Elbow Method because it represents the optimal number of clusters, where the addition of more clusters yields diminishing returns in terms of reducing inertia. This helps in selecting a model that is both effective and efficient."
   ]
  },
  {
   "cell_type": "markdown",
   "metadata": {},
   "source": []
  }
 ],
 "metadata": {
  "language_info": {
   "name": "python"
  }
 },
 "nbformat": 4,
 "nbformat_minor": 2
}
